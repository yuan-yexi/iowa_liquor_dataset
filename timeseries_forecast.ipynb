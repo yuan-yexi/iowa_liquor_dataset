{
 "cells": [
  {
   "cell_type": "code",
   "execution_count": 1,
   "metadata": {},
   "outputs": [
    {
     "name": "stdout",
     "output_type": "stream",
     "text": [
      "env: GOOGLE_APPLICATION_CREDENTIALS=/home/yexi/interview_questions/ntuc_iowa_liquor/bq_sql_key.json\n",
      "/home/yexi/interview_questions/ntuc_iowa_liquor/bq_sql_key.json\n"
     ]
    }
   ],
   "source": [
    "# Set environmental variables with google service credentials\n",
    "import os\n",
    "%env GOOGLE_APPLICATION_CREDENTIALS=/home/yexi/interview_questions/ntuc_iowa_liquor/bq_sql_key.json\n",
    "print(os.getenv('GOOGLE_APPLICATION_CREDENTIALS'))"
   ]
  },
  {
   "cell_type": "code",
   "execution_count": 2,
   "metadata": {},
   "outputs": [],
   "source": [
    "# import necessary libraries for analysis\n",
    "import pandas as pd\n",
    "import numpy as np\n",
    "import matplotlib.pyplot as plt\n",
    "import seaborn as sns\n",
    "import warnings\n",
    "warnings.filterwarnings('ignore')\n",
    "\n",
    "from google.cloud import bigquery\n",
    "\n",
    "bqclient = bigquery.Client()"
   ]
  },
  {
   "cell_type": "code",
   "execution_count": 3,
   "metadata": {},
   "outputs": [
    {
     "name": "stdout",
     "output_type": "stream",
     "text": [
      "[]\n"
     ]
    }
   ],
   "source": [
    "# Test BQ Connect\n",
    "def implicit():\n",
    "    from google.cloud import storage\n",
    "\n",
    "    # If you don't specify credentials when constructing the client, the\n",
    "    # client library will look for credentials in the environment.\n",
    "    storage_client = storage.Client()\n",
    "\n",
    "    # Make an authenticated API request\n",
    "    buckets = list(storage_client.list_buckets())\n",
    "    print(buckets)\n",
    "\n",
    "implicit()"
   ]
  },
  {
   "cell_type": "code",
   "execution_count": 4,
   "metadata": {},
   "outputs": [],
   "source": [
    "# Download query results.\n",
    "forecast_autocorr = \"\"\"\n",
    "WITH actual AS (\n",
    "    SELECT \n",
    "        DATE_TRUNC(date, month) AS year_month,\n",
    "        SUM(sale_dollars) AS actual_total_sales\n",
    "    FROM `bigquery-public-data.iowa_liquor_sales.sales`\n",
    "    GROUP BY 1\n",
    "    ORDER BY 1\n",
    ")\n",
    "SELECT \n",
    "    year_month,\n",
    "    actual_total_sales\n",
    "FROM actual\n",
    "ORDER BY 1\n",
    "\"\"\"\n",
    "\n",
    "forecast_autocorr = (\n",
    "    bqclient.query(forecast_autocorr)\n",
    "    .result()\n",
    "    .to_dataframe(\n",
    "        create_bqstorage_client=True,\n",
    "    )\n",
    ")"
   ]
  },
  {
   "cell_type": "code",
   "execution_count": 8,
   "metadata": {},
   "outputs": [],
   "source": [
    "forecast_autocorr['year_month'] = pd.to_datetime(forecast_autocorr['year_month'], format='%Y-%m-%d')\n",
    "forecast_autocorr.set_index('year_month', inplace=True)"
   ]
  },
  {
   "cell_type": "code",
   "execution_count": 10,
   "metadata": {},
   "outputs": [
    {
     "name": "stdout",
     "output_type": "stream",
     "text": [
      "<class 'pandas.core.frame.DataFrame'>\n",
      "RangeIndex: 117 entries, 0 to 116\n",
      "Data columns (total 3 columns):\n",
      " #   Column              Non-Null Count  Dtype         \n",
      "---  ------              --------------  -----         \n",
      " 0   year_month          117 non-null    datetime64[ns]\n",
      " 1   actual_total_sales  117 non-null    float64       \n",
      " 2   model_total_sales   116 non-null    float64       \n",
      "dtypes: datetime64[ns](1), float64(2)\n",
      "memory usage: 2.9 KB\n"
     ]
    }
   ],
   "source": [
    "forecast_autocorr.info()"
   ]
  },
  {
   "cell_type": "code",
   "execution_count": 21,
   "metadata": {},
   "outputs": [
    {
     "name": "stdout",
     "output_type": "stream",
     "text": [
      "The autocorrelation of monthly sales is 0.56\n"
     ]
    }
   ],
   "source": [
    "# Compute and print the autocorrelation of monthly changes\n",
    "autocorrelation_monthly = forecast_autocorr['actual_total_sales'].autocorr()\n",
    "print(\"The autocorrelation of monthly sales is %4.2f\" %(autocorrelation_monthly))"
   ]
  },
  {
   "cell_type": "code",
   "execution_count": 24,
   "metadata": {},
   "outputs": [
    {
     "name": "stdout",
     "output_type": "stream",
     "text": [
      "The autocorrelation of annual sales is 0.70\n"
     ]
    }
   ],
   "source": [
    "# Convert the daily data to annual data\n",
    "yearly_sales = forecast_autocorr.resample(rule='A').last()\n",
    "\n",
    "# Repeat above for annual data\n",
    "autocorrelation_yearly = yearly_sales['actual_total_sales'].autocorr()\n",
    "print(\"The autocorrelation of annual sales is %4.2f\" %(autocorrelation_yearly))"
   ]
  },
  {
   "cell_type": "code",
   "execution_count": 26,
   "metadata": {},
   "outputs": [
    {
     "name": "stdout",
     "output_type": "stream",
     "text": [
      "[1.         0.53968811 0.64367445 0.50956663 0.46900781 0.51337296\n",
      " 0.58755502 0.44833053 0.43824826 0.4039521  0.47885285 0.41969539\n",
      " 0.68500472 0.31618879 0.44031932 0.24884432 0.25919459 0.31610078\n",
      " 0.32159375 0.23821104 0.2701036 ]\n"
     ]
    },
    {
     "data": {
      "image/png": "[encoded data removed]",
      "text/plain": [
       "<Figure size 432x288 with 1 Axes>"
      ]
     },
     "metadata": {
      "needs_background": "light"
     },
     "output_type": "display_data"
    }
   ],
   "source": [
    "# Import the acf module and the plot_acf module from statsmodels\n",
    "from statsmodels.tsa.stattools import acf\n",
    "from statsmodels.graphics.tsaplots import plot_acf\n",
    "\n",
    "# Compute the acf array of HRB\n",
    "acf_array = acf(forecast_autocorr['actual_total_sales'])\n",
    "print(acf_array)\n",
    "\n",
    "# Plot the acf function\n",
    "plot_acf(forecast_autocorr['actual_total_sales'], alpha=1)\n",
    "plt.show()"
   ]
  },
  {
   "cell_type": "markdown",
   "metadata": {},
   "source": [
    "### We can see that a 12 month lag has the strongest autocorrelation in our dataset. Similar observation with we resampled to annual data for forecast."
   ]
  },
  {
   "cell_type": "code",
   "execution_count": 29,
   "metadata": {},
   "outputs": [
    {
     "name": "stdout",
     "output_type": "stream",
     "text": [
      "The approximate confidence interval is +/- 0.18\n"
     ]
    },
    {
     "data": {
      "image/png": "[encoded data removed]",
      "text/plain": [
       "<Figure size 432x288 with 1 Axes>"
      ]
     },
     "metadata": {
      "needs_background": "light"
     },
     "output_type": "display_data"
    }
   ],
   "source": [
    "# Import the plot_acf module from statsmodels and sqrt from math\n",
    "from statsmodels.graphics.tsaplots import plot_acf\n",
    "from math import sqrt\n",
    "\n",
    "# Compute and print the autocorrelation of MSFT weekly returns\n",
    "autocorrelation = forecast_autocorr['actual_total_sales'].autocorr()\n",
    "\n",
    "# Find the number of observations by taking the length of the returns DataFrame\n",
    "num_obs = len(forecast_autocorr)\n",
    "\n",
    "# Compute the approximate confidence interval\n",
    "conf = 1.96/sqrt(num_obs)\n",
    "print(\"The approximate confidence interval is +/- %4.2f\" %(conf))\n",
    "\n",
    "# Plot the autocorrelation function with 95% confidence intervals and 20 lags using plot_acf\n",
    "plot_acf(forecast_autocorr['actual_total_sales'], alpha=0.05, lags=20)\n",
    "plt.show()"
   ]
  },
  {
   "cell_type": "code",
   "execution_count": null,
   "metadata": {},
   "outputs": [],
   "source": [
    "# Download query results.\n",
    "forecast_lag_12 = \"\"\"\n",
    "WITH actual AS (\n",
    "    SELECT \n",
    "        DATE_TRUNC(date, month) AS year_month,\n",
    "        SUM(sale_dollars) AS actual_total_sales\n",
    "    FROM `bigquery-public-data.iowa_liquor_sales.sales`\n",
    "    GROUP BY 1\n",
    "    ORDER BY 1\n",
    "),\n",
    "forecast AS (\n",
    "    SELECT\n",
    "        year_month,\n",
    "        actual_total_sales,\n",
    "        LAG(actual_total_sales, 12) OVER (ORDER BY year_month) AS model_total_sales\n",
    "    FROM actual\n",
    "    ORDER BY 1\n",
    ")\n",
    "SELECT \n",
    "    year_month,\n",
    "    actual_total_sales,\n",
    "    model_total_sales,\n",
    "FROM forecast\n",
    "ORDER BY 1\n",
    "\"\"\"\n",
    "\n",
    "forecast_autocorr = (\n",
    "    bqclient.query(forecast_autocorr)\n",
    "    .result()\n",
    "    .to_dataframe(\n",
    "        create_bqstorage_client=True,\n",
    "    )\n",
    ")"
   ]
  },
  {
   "cell_type": "markdown",
   "metadata": {},
   "source": [
    "### We observe that the lag 12 autocorrelation of 0.70 is also statistically significant (outside of CI area)"
   ]
  }
 ],
 "metadata": {
  "interpreter": {
   "hash": "af7af57fd4105ef377f467761d3d6f87390ecc4db5a80f6c953b174c3ac44aa0"
  },
  "kernelspec": {
   "display_name": "Python 3.8.10 64-bit ('env': venv)",
   "name": "python3"
  },
  "language_info": {
   "codemirror_mode": {
    "name": "ipython",
    "version": 3
   },
   "file_extension": ".py",
   "mimetype": "text/x-python",
   "name": "python",
   "nbconvert_exporter": "python",
   "pygments_lexer": "ipython3",
   "version": "3.8.10"
  },
  "orig_nbformat": 4
 },
 "nbformat": 4,
 "nbformat_minor": 2
}
